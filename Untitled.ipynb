{
 "cells": [
  {
   "cell_type": "code",
   "execution_count": 3,
   "id": "6894de73-19b2-48d6-9e63-0c02a594dd1a",
   "metadata": {
    "scrolled": true
   },
   "outputs": [
    {
     "name": "stdout",
     "output_type": "stream",
     "text": [
      "The history saving thread hit an unexpected error (OperationalError('attempt to write a readonly database')).History will not be written to the database.\n"
     ]
    }
   ],
   "source": [
    "#author: MALIK Rayane"
   ]
  },
  {
   "cell_type": "markdown",
   "id": "7373492e-348a-4f49-b0b6-697671852c37",
   "metadata": {},
   "source": [
    "# Clustering Alimentaire et recommandations d'aliments\n",
    "Dans ce notebook je vais aller plus en détails sur la réalisation de mon code et son fonctionnement. De plus le but de ce projet est d'aider les personnes cherchant des alternatives à certains aliments dans le but de diversifier leurs alimentations ou pour respecter certaines contraintes alimentaires.\n",
    "## Prétraitement des données\n",
    "J'ai donc prétraiter les données d'un dataset disponible sur le site du gouvernement, celui-ci contient des données sur les valeurs nutritionnels de différents aliments. J'ai donc gardé les colonnes contenant les valeurs nutritionelles qui m'intéréssaient ainsi que celles me permettant d'identifier les groupes des aliments (utilisation lors de la phase finale).\n",
    "### Uilisation de pandas pour lire le xls et le transformer en csv"
   ]
  },
  {
   "cell_type": "code",
   "execution_count": null,
   "id": "929a6614-1d50-4683-88e7-0822caef2852",
   "metadata": {},
   "outputs": [],
   "source": [
    "new_file = pd.read_excel(excel_file, engine='xlrd')\n",
    "new_file.to_csv(csv_file, index=False, quotechar='\"', quoting=csv.QUOTE_NONNUMERIC)"
   ]
  },
  {
   "cell_type": "markdown",
   "id": "88d71d79-a891-41a5-9afd-363152f642a1",
   "metadata": {},
   "source": [
    "## Evaluation de la meilleure méthode de clustering\n",
    "La deuxième partie consiste en l'évaluation de la meilleure méthode de traitement des données pour réaliser mon clustering des aliments et ainsi avoir une meilleure recommendation d'aliments\n",
    "### Préparation des données pour ensuite les évaluer\n",
    "Utilisation de différents décomposer, scaler et paramètres pour évaluer la meilleure manière par la suite. "
   ]
  },
  {
   "cell_type": "code",
   "execution_count": null,
   "id": "beb9aa63-5a58-4065-80da-718cc4ef5c6a",
   "metadata": {},
   "outputs": [],
   "source": [
    "if preprocesser == \"StandardScaler\":\n",
    "    values_scaled = StandardScaler().fit_transform(values)\n",
    "elif preprocesser == \"MinMaxScaler\":\n",
    "    values_scaled = MinMaxScaler().fit_transform(values)\n",
    "elif preprocesser == \"RobustScaler\":\n",
    "    values_scaled = RobustScaler().fit_transform(values)\n",
    "    \n",
    "if decomposer == \"PCA\":\n",
    "        pca = PCA(**params)\n",
    "        values_pca = pca.fit_transform(values_scaled)\n",
    "        # print(values_pca)\n",
    "elif decomposer == \"KernelPCA\":\n",
    "    pca = KernelPCA(**params)\n",
    "    values_pca = pca.fit_transform(values_scaled)"
   ]
  },
  {
   "cell_type": "markdown",
   "id": "6d24fc9d-b0f1-4712-85ac-2508719d89bd",
   "metadata": {},
   "source": [
    "### Evaluation des scores en fonction du nombre de cluster\n",
    "Calcul des scores pour ensuite réaliser l'évaluation des scores grace a différents graphiques"
   ]
  },
  {
   "cell_type": "code",
   "execution_count": null,
   "id": "758cbf5a-9108-48b6-a74f-d09da6aff8fe",
   "metadata": {},
   "outputs": [],
   "source": [
    "for k in k_values:\n",
    "        kmeans = KMeans(n_clusters=k, random_state=42)\n",
    "        kmeans.fit(data)\n",
    "\n",
    "        # Silhouette Score\n",
    "        silhouette = silhouette_score(data, kmeans.labels_)\n",
    "        results[\"Silhouette\"].append(silhouette)\n",
    "\n",
    "        silhouette_values_per_k.append(silhouette_samples(data, kmeans.labels_))\n",
    "        cluster_labels_per_k.append(kmeans.labels_)\n",
    "\n",
    "        # Inertia\n",
    "        inertia = kmeans.inertia_\n",
    "        results[\"Inertia\"].append(inertia)"
   ]
  },
  {
   "cell_type": "markdown",
   "id": "645bece4-dd98-414f-ad09-68ef6edf93f2",
   "metadata": {},
   "source": [
    "### Affichage des scores\n",
    "Deux graphiques sont créés dans un même fichier \".png\"; correspondants aux scores d'inerties et de silhouettes. De cette manière nous pouvons évaluer plusieurs méthodes de clusterings pour les retenir et ainsi les comparés entre elles en utilisant une heatmap (permettant de voir la répartition des valeurs intra clusters)."
   ]
  },
  {
   "cell_type": "code",
   "execution_count": null,
   "id": "79b37a5f-0be1-41f5-91b6-933d7b808462",
   "metadata": {},
   "outputs": [],
   "source": [
    "def draw_graph(k_values, iniertia_score, silhouette_score, title):\n",
    "    plt.figure(figsize=(15, 6))\n",
    "\n",
    "\n",
    "    plt.subplot(1, 2, 1)\n",
    "    plt.plot(k_values, iniertia_score, marker=\"o\", label=\"Inertia\")\n",
    "    plt.title(\"Inertia Score (Elbow method)\")\n",
    "    plt.xlabel(\"Number of clusters\")\n",
    "    plt.ylabel(\"Inertia Score\")\n",
    "    plt.grid(True, linestyle='--', linewidth=0.5)\n",
    "    plt.xticks(range(min(k_values), max(k_values) + 1, 1))\n",
    "\n",
    "    plt.subplot(1, 2, 2)\n",
    "    plt.plot(k_values, silhouette_score, marker=\"o\", label=\"Silhouette\")\n",
    "    plt.title(\"Silhouette Score\")\n",
    "    plt.xlabel(\"Number of clusters\")\n",
    "    plt.ylabel(\"Silhouette Score\")\n",
    "    plt.grid(True, linestyle='--', linewidth=0.5)\n",
    "    plt.xticks(range(min(k_values), max(k_values) + 1, 1))\n",
    "\n",
    "    plt.suptitle(title, fontsize=16, fontweight=\"bold\")\n",
    "\n",
    "    plt.savefig(f\"./optimal_clusters/{title.replace(' ', '_')}.png\")\n",
    "    plt.close()"
   ]
  }
 ],
 "metadata": {
  "kernelspec": {
   "display_name": "Python 3 (ipykernel)",
   "language": "python",
   "name": "python3"
  },
  "language_info": {
   "codemirror_mode": {
    "name": "ipython",
    "version": 3
   },
   "file_extension": ".py",
   "mimetype": "text/x-python",
   "name": "python",
   "nbconvert_exporter": "python",
   "pygments_lexer": "ipython3",
   "version": "3.10.12"
  }
 },
 "nbformat": 4,
 "nbformat_minor": 5
}
